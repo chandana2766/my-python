{
 "cells": [
  {
   "cell_type": "markdown",
   "metadata": {},
   "source": [
    "# PYTHON:"
   ]
  },
  {
   "cell_type": "markdown",
   "metadata": {},
   "source": [
    "- python was Developed by guido Van Rossum in the year 1991"
   ]
  },
  {
   "cell_type": "markdown",
   "metadata": {},
   "source": [
    "- he picked the name 'python' from the TV show, \"Monty Python's Flying Circus\""
   ]
  },
  {
   "cell_type": "markdown",
   "metadata": {},
   "source": [
    "## Features:"
   ]
  },
  {
   "cell_type": "markdown",
   "metadata": {},
   "source": [
    "- ***Simple:***\n",
    "\n",
    "     - Easy to understand \n",
    "- ***Easy to learn:***\n",
    "\n",
    "     - simple structure\n",
    "- ***open source:***\n",
    "\n",
    "     - we  download freely\n",
    "- ***High level language:***\n",
    "      \n",
    "     - use english words to develop programs \n",
    "- ***platform independent:***\n",
    "\n",
    "     - program generates byte code that can run on all operating systems and hardware using python virtual machine\n",
    "- ***portable:***\n",
    "\n",
    "     - when a program yields same result on any computer in the world it is portable\n",
    "- ***Interpreted:***\n",
    "\n",
    "     - convert byte code instructions to machine code\n",
    "- ***Extensible:***\n",
    "     - we can integrate other languages into python\n",
    "     \n",
    "- ***scalable:***\n",
    "\n",
    "     - if program moved to another operating system or hardware and take full advantage of new environment in terms of performance"
   ]
  }
 ],
 "metadata": {
  "kernelspec": {
   "display_name": "Python 3",
   "language": "python",
   "name": "python3"
  },
  "language_info": {
   "codemirror_mode": {
    "name": "ipython",
    "version": 3
   },
   "file_extension": ".py",
   "mimetype": "text/x-python",
   "name": "python",
   "nbconvert_exporter": "python",
   "pygments_lexer": "ipython3",
   "version": "3.7.6"
  }
 },
 "nbformat": 4,
 "nbformat_minor": 4
}
